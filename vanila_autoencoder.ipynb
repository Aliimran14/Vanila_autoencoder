{
  "nbformat": 4,
  "nbformat_minor": 0,
  "metadata": {
    "colab": {
      "provenance": [],
      "gpuType": "T4"
    },
    "kernelspec": {
      "name": "python3",
      "display_name": "Python 3"
    },
    "language_info": {
      "name": "python"
    },
    "accelerator": "GPU"
  },
  "cells": [
    {
      "cell_type": "code",
      "execution_count": 1,
      "metadata": {
        "colab": {
          "base_uri": "https://localhost:8080/"
        },
        "id": "vvlt-auwAB-w",
        "outputId": "ef6f6316-3abc-44b4-f012-83ae3c43ee98"
      },
      "outputs": [
        {
          "output_type": "stream",
          "name": "stdout",
          "text": [
            "Colab only includes TensorFlow 2.x; %tensorflow_version has no effect.\n",
            "Populating the interactive namespace from numpy and matplotlib\n"
          ]
        }
      ],
      "source": [
        "%tensorflow_version 2.x\n",
        "%pylab inline\n",
        "from tensorflow import keras"
      ]
    },
    {
      "cell_type": "code",
      "source": [
        "# Load the MNIST dataset from Keras\n",
        "(x_train, _), (x_test, _) = keras.datasets.mnist.load_data()\n",
        "\n",
        "# Normalize the training data to be in the range [0, 1]\n",
        "x_train = x_train / 255.0\n",
        "\n",
        "# Normalize the test data to be in the range [0, 1]\n",
        "x_test = x_test / 255.0\n"
      ],
      "metadata": {
        "colab": {
          "base_uri": "https://localhost:8080/"
        },
        "id": "FmWpSE_YBk1l",
        "outputId": "426fc032-2cb9-42c9-979e-2814f7cd18b8"
      },
      "execution_count": 2,
      "outputs": [
        {
          "output_type": "stream",
          "name": "stdout",
          "text": [
            "Downloading data from https://storage.googleapis.com/tensorflow/tf-keras-datasets/mnist.npz\n",
            "\u001b[1m11490434/11490434\u001b[0m \u001b[32m━━━━━━━━━━━━━━━━━━━━\u001b[0m\u001b[37m\u001b[0m \u001b[1m2s\u001b[0m 0us/step\n"
          ]
        }
      ]
    },
    {
      "cell_type": "code",
      "source": [
        "# Create the encoder model\n",
        "encoder = keras.models.Sequential([\n",
        "    # Flatten the input images (28x28) into a 1D array of 784 elements\n",
        "    keras.layers.Flatten(input_shape=[28, 28]),\n",
        "    # Add a dense layer with 100 neurons and ReLU activation function\n",
        "    keras.layers.Dense(100, activation=\"relu\"),\n",
        "    # Add another dense layer with 30 neurons and ReLU activation function\n",
        "    keras.layers.Dense(30, activation=\"relu\"),\n",
        "])"
      ],
      "metadata": {
        "colab": {
          "base_uri": "https://localhost:8080/"
        },
        "id": "7mZLCHjVBsq4",
        "outputId": "d425b980-170a-46e9-de3b-ad9a97f7b6bf"
      },
      "execution_count": 3,
      "outputs": [
        {
          "output_type": "stream",
          "name": "stderr",
          "text": [
            "/usr/local/lib/python3.10/dist-packages/keras/src/layers/reshaping/flatten.py:37: UserWarning: Do not pass an `input_shape`/`input_dim` argument to a layer. When using Sequential models, prefer using an `Input(shape)` object as the first layer in the model instead.\n",
            "  super().__init__(**kwargs)\n"
          ]
        }
      ]
    },
    {
      "cell_type": "code",
      "source": [
        "# Create the decoder model\n",
        "decoder = keras.models.Sequential([\n",
        "    # Add a dense layer with 100 neurons and ReLU activation function, input shape is 30 (output from encoder)\n",
        "    keras.layers.Dense(100, activation=\"relu\", input_shape=[30]),\n",
        "    # Add a dense layer with 784 neurons (28*28) and sigmoid activation function to output pixel values in range [0, 1]\n",
        "    keras.layers.Dense(28 * 28, activation=\"sigmoid\"),\n",
        "    # Reshape the output into the original image shape (28x28)\n",
        "    keras.layers.Reshape([28, 28])\n",
        "])"
      ],
      "metadata": {
        "colab": {
          "base_uri": "https://localhost:8080/"
        },
        "id": "1Yelxd3iB74Z",
        "outputId": "ae547095-21dd-4804-8592-372fb9e07b0a"
      },
      "execution_count": 4,
      "outputs": [
        {
          "output_type": "stream",
          "name": "stderr",
          "text": [
            "/usr/local/lib/python3.10/dist-packages/keras/src/layers/core/dense.py:87: UserWarning: Do not pass an `input_shape`/`input_dim` argument to a layer. When using Sequential models, prefer using an `Input(shape)` object as the first layer in the model instead.\n",
            "  super().__init__(activity_regularizer=activity_regularizer, **kwargs)\n"
          ]
        }
      ]
    },
    {
      "cell_type": "code",
      "source": [
        "# Stack the encoder and decoder models to create the autoencoder\n",
        "stacked_autoencoder = keras.models.Sequential([encoder, decoder])"
      ],
      "metadata": {
        "id": "wi6ADtaxCM7-"
      },
      "execution_count": 5,
      "outputs": []
    },
    {
      "cell_type": "code",
      "source": [
        "# Compile the stacked autoencoder model\n",
        "stacked_autoencoder.compile(\n",
        "    # Use binary cross-entropy loss function for binary input data (normalized pixel values)\n",
        "    loss=\"binary_crossentropy\",\n",
        "    # Use the Adam optimizer for efficient training\n",
        "    optimizer='adam'\n",
        ")\n"
      ],
      "metadata": {
        "id": "z5ohtFGNCi_M"
      },
      "execution_count": 6,
      "outputs": []
    },
    {
      "cell_type": "code",
      "source": [
        "# Train the stacked autoencoder model\n",
        "history = stacked_autoencoder.fit(\n",
        "    # Input and target data are both x_train (input images) for reconstruction\n",
        "    x_train, x_train,\n",
        "    # Train for 10 epochs\n",
        "    epochs=10,\n",
        "    # Use x_test for validation during training\n",
        "    validation_data=[x_test, x_test]\n",
        ")"
      ],
      "metadata": {
        "colab": {
          "base_uri": "https://localhost:8080/"
        },
        "id": "bHnIqljrCzA5",
        "outputId": "cb62b9ff-01ab-4fab-beaa-5295d4f8f88b"
      },
      "execution_count": 7,
      "outputs": [
        {
          "output_type": "stream",
          "name": "stdout",
          "text": [
            "Epoch 1/10\n",
            "\u001b[1m1875/1875\u001b[0m \u001b[32m━━━━━━━━━━━━━━━━━━━━\u001b[0m\u001b[37m\u001b[0m \u001b[1m7s\u001b[0m 2ms/step - loss: 0.2043 - val_loss: 0.1093\n",
            "Epoch 2/10\n",
            "\u001b[1m1875/1875\u001b[0m \u001b[32m━━━━━━━━━━━━━━━━━━━━\u001b[0m\u001b[37m\u001b[0m \u001b[1m4s\u001b[0m 2ms/step - loss: 0.1083 - val_loss: 0.1014\n",
            "Epoch 3/10\n",
            "\u001b[1m1875/1875\u001b[0m \u001b[32m━━━━━━━━━━━━━━━━━━━━\u001b[0m\u001b[37m\u001b[0m \u001b[1m4s\u001b[0m 2ms/step - loss: 0.1019 - val_loss: 0.0977\n",
            "Epoch 4/10\n",
            "\u001b[1m1875/1875\u001b[0m \u001b[32m━━━━━━━━━━━━━━━━━━━━\u001b[0m\u001b[37m\u001b[0m \u001b[1m5s\u001b[0m 2ms/step - loss: 0.0983 - val_loss: 0.0953\n",
            "Epoch 5/10\n",
            "\u001b[1m1875/1875\u001b[0m \u001b[32m━━━━━━━━━━━━━━━━━━━━\u001b[0m\u001b[37m\u001b[0m \u001b[1m4s\u001b[0m 2ms/step - loss: 0.0958 - val_loss: 0.0934\n",
            "Epoch 6/10\n",
            "\u001b[1m1875/1875\u001b[0m \u001b[32m━━━━━━━━━━━━━━━━━━━━\u001b[0m\u001b[37m\u001b[0m \u001b[1m3s\u001b[0m 2ms/step - loss: 0.0945 - val_loss: 0.0927\n",
            "Epoch 7/10\n",
            "\u001b[1m1875/1875\u001b[0m \u001b[32m━━━━━━━━━━━━━━━━━━━━\u001b[0m\u001b[37m\u001b[0m \u001b[1m4s\u001b[0m 2ms/step - loss: 0.0931 - val_loss: 0.0916\n",
            "Epoch 8/10\n",
            "\u001b[1m1875/1875\u001b[0m \u001b[32m━━━━━━━━━━━━━━━━━━━━\u001b[0m\u001b[37m\u001b[0m \u001b[1m6s\u001b[0m 2ms/step - loss: 0.0923 - val_loss: 0.0913\n",
            "Epoch 9/10\n",
            "\u001b[1m1875/1875\u001b[0m \u001b[32m━━━━━━━━━━━━━━━━━━━━\u001b[0m\u001b[37m\u001b[0m \u001b[1m4s\u001b[0m 2ms/step - loss: 0.0916 - val_loss: 0.0902\n",
            "Epoch 10/10\n",
            "\u001b[1m1875/1875\u001b[0m \u001b[32m━━━━━━━━━━━━━━━━━━━━\u001b[0m\u001b[37m\u001b[0m \u001b[1m3s\u001b[0m 2ms/step - loss: 0.0910 - val_loss: 0.0899\n"
          ]
        }
      ]
    },
    {
      "cell_type": "code",
      "source": [
        "# Set the figure size for the plot\n",
        "figsize(20, 5)\n",
        "\n",
        "# Iterate over a range of 8 examples from the test set\n",
        "for i in range(8):\n",
        "    # Plot the original image from the test set\n",
        "    subplot(2, 8, i+1)\n",
        "    # Make a prediction using the stacked autoencoder on the current test image\n",
        "    pred = stacked_autoencoder.predict(x_test[i].reshape((1, 28, 28)))\n",
        "    # Display the original image\n",
        "    imshow(x_test[i], cmap=\"binary\")\n",
        "\n",
        "    # Plot the reconstructed image by the stacked autoencoder\n",
        "    subplot(2, 8, i+8+1)\n",
        "    # Display the reconstructed image\n",
        "    imshow(pred.reshape((28, 28)), cmap=\"binary\")\n"
      ],
      "metadata": {
        "colab": {
          "base_uri": "https://localhost:8080/",
          "height": 351
        },
        "id": "5ECKvibODEQt",
        "outputId": "6f2be29e-42bb-4a0e-9e50-a7bee65a7de1"
      },
      "execution_count": 8,
      "outputs": [
        {
          "output_type": "stream",
          "name": "stdout",
          "text": [
            "\u001b[1m1/1\u001b[0m \u001b[32m━━━━━━━━━━━━━━━━━━━━\u001b[0m\u001b[37m\u001b[0m \u001b[1m0s\u001b[0m 215ms/step\n",
            "\u001b[1m1/1\u001b[0m \u001b[32m━━━━━━━━━━━━━━━━━━━━\u001b[0m\u001b[37m\u001b[0m \u001b[1m0s\u001b[0m 16ms/step\n",
            "\u001b[1m1/1\u001b[0m \u001b[32m━━━━━━━━━━━━━━━━━━━━\u001b[0m\u001b[37m\u001b[0m \u001b[1m0s\u001b[0m 16ms/step\n",
            "\u001b[1m1/1\u001b[0m \u001b[32m━━━━━━━━━━━━━━━━━━━━\u001b[0m\u001b[37m\u001b[0m \u001b[1m0s\u001b[0m 17ms/step\n",
            "\u001b[1m1/1\u001b[0m \u001b[32m━━━━━━━━━━━━━━━━━━━━\u001b[0m\u001b[37m\u001b[0m \u001b[1m0s\u001b[0m 15ms/step\n",
            "\u001b[1m1/1\u001b[0m \u001b[32m━━━━━━━━━━━━━━━━━━━━\u001b[0m\u001b[37m\u001b[0m \u001b[1m0s\u001b[0m 15ms/step\n",
            "\u001b[1m1/1\u001b[0m \u001b[32m━━━━━━━━━━━━━━━━━━━━\u001b[0m\u001b[37m\u001b[0m \u001b[1m0s\u001b[0m 15ms/step\n",
            "\u001b[1m1/1\u001b[0m \u001b[32m━━━━━━━━━━━━━━━━━━━━\u001b[0m\u001b[37m\u001b[0m \u001b[1m0s\u001b[0m 14ms/step\n"
          ]
        },
        {
          "output_type": "display_data",
          "data": {
            "text/plain": [
              "<Figure size 2000x500 with 16 Axes>"
            ],
            "image/png": "[encoded data removed]"
          },
          "metadata": {}
        }
      ]
    },
    {
      "cell_type": "code",
      "source": [
        "# Set the index i to choose a specific example from the test set\n",
        "i = 0  # Change this number to select a different example\n",
        "\n",
        "# Set the figure size for the plot\n",
        "figsize(10, 5)\n",
        "\n",
        "# Plot the original image\n",
        "subplot(1, 3, 1)\n",
        "imshow(x_test[i], cmap=\"binary\")\n",
        "\n",
        "# Plot the latent vector representation obtained from the encoder\n",
        "subplot(1, 3, 2)\n",
        "# Predict the latent vector representation of the selected test image\n",
        "latent_vector = encoder.predict(x_test[i].reshape((1, 28, 28)))\n",
        "imshow(latent_vector, cmap=\"binary\")\n",
        "\n",
        "# Plot the reconstructed image from the latent vector using the decoder\n",
        "subplot(1, 3, 3)\n",
        "# Reconstruct the image from the latent vector representation\n",
        "pred = decoder.predict(latent_vector)\n",
        "imshow(pred.reshape((28, 28)), cmap=\"binary\")\n"
      ],
      "metadata": {
        "colab": {
          "base_uri": "https://localhost:8080/",
          "height": 315
        },
        "id": "kZSnwj6DDaLz",
        "outputId": "47aae68f-34f5-4f5b-8114-2649e82f02c1"
      },
      "execution_count": 9,
      "outputs": [
        {
          "output_type": "stream",
          "name": "stdout",
          "text": [
            "\u001b[1m1/1\u001b[0m \u001b[32m━━━━━━━━━━━━━━━━━━━━\u001b[0m\u001b[37m\u001b[0m \u001b[1m0s\u001b[0m 139ms/step\n",
            "\u001b[1m1/1\u001b[0m \u001b[32m━━━━━━━━━━━━━━━━━━━━\u001b[0m\u001b[37m\u001b[0m \u001b[1m0s\u001b[0m 139ms/step\n"
          ]
        },
        {
          "output_type": "execute_result",
          "data": {
            "text/plain": [
              "<matplotlib.image.AxesImage at 0x7ad755f138b0>"
            ]
          },
          "metadata": {},
          "execution_count": 9
        },
        {
          "output_type": "display_data",
          "data": {
            "text/plain": [
              "<Figure size 1000x500 with 3 Axes>"
            ],
            "image/png": "[encoded data removed]"
          },
          "metadata": {}
        }
      ]
    },
    {
      "cell_type": "code",
      "source": [
        "# 30 / (28 * 28), 1 - 30 / (28 * 28)\n",
        "\n",
        "# Calculate the sparsity constraints\n",
        "sparsity_low = 30 / (28 * 28)  # Lower bound for sparsity constraint\n",
        "sparsity_high = 1 - 30 / (28 * 28)  # Upper bound for sparsity constraint\n",
        "\n",
        "# Print the calculated values\n",
        "print(sparsity_low, sparsity_high)\n",
        "\n"
      ],
      "metadata": {
        "colab": {
          "base_uri": "https://localhost:8080/"
        },
        "id": "g4IJVz7fDqYk",
        "outputId": "44959899-131e-4e3c-a9ee-9718e5adc84b"
      },
      "execution_count": 10,
      "outputs": [
        {
          "output_type": "stream",
          "name": "stdout",
          "text": [
            "0.03826530612244898 0.9617346938775511\n"
          ]
        }
      ]
    }
  ]
}